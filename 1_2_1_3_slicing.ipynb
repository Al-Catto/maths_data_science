{
 "cells": [
  {
   "cell_type": "code",
   "execution_count": 1,
   "id": "52290c94",
   "metadata": {},
   "outputs": [],
   "source": [
    "%load_ext autoreload\n",
    "%autoreload 2\n",
    "\n",
    "%matplotlib inline\n",
    "import numpy as np\n",
    "import pandas as pd\n",
    "import matplotlib.pyplot as plt\n",
    "import seaborn as sns\n",
    "import scipy.stats as stats"
   ]
  },
  {
   "cell_type": "code",
   "execution_count": 2,
   "id": "0b49ef8e",
   "metadata": {},
   "outputs": [],
   "source": [
    "def g_2x(x):\n",
    "    return 2 * x"
   ]
  },
  {
   "cell_type": "code",
   "execution_count": 5,
   "id": "91ca1e7c",
   "metadata": {},
   "outputs": [
    {
     "data": {
      "text/plain": [
       "array([0, 1, 2, 3, 4, 5, 6])"
      ]
     },
     "execution_count": 5,
     "metadata": {},
     "output_type": "execute_result"
    }
   ],
   "source": [
    "delta_x = 1\n",
    "x = np.arange(0,7,delta_x)\n",
    "x"
   ]
  },
  {
   "cell_type": "code",
   "execution_count": 6,
   "id": "186bcd4c",
   "metadata": {},
   "outputs": [
    {
     "data": {
      "text/plain": [
       "array([ 0,  2,  4,  6,  8, 10, 12])"
      ]
     },
     "execution_count": 6,
     "metadata": {},
     "output_type": "execute_result"
    }
   ],
   "source": [
    "y=g_2x(x)\n",
    "y"
   ]
  },
  {
   "cell_type": "markdown",
   "id": "b6ed03bd",
   "metadata": {},
   "source": [
    "## here's the slice"
   ]
  },
  {
   "cell_type": "code",
   "execution_count": 13,
   "id": "a4a65289",
   "metadata": {},
   "outputs": [],
   "source": [
    "slice_area_all = np.zeros(y.shape[0])\n",
    "for i in range(1, len(x)):\n",
    "    slice_area_all[i] = delta_x *y[i-1]\n"
   ]
  },
  {
   "cell_type": "markdown",
   "id": "e04c1302",
   "metadata": {},
   "source": [
    "## these values are the slice's areas"
   ]
  },
  {
   "cell_type": "code",
   "execution_count": 14,
   "id": "71c1eea8",
   "metadata": {},
   "outputs": [
    {
     "data": {
      "text/plain": [
       "array([ 0.,  0.,  2.,  4.,  6.,  8., 10.])"
      ]
     },
     "execution_count": 14,
     "metadata": {},
     "output_type": "execute_result"
    }
   ],
   "source": [
    "slice_area_all"
   ]
  },
  {
   "cell_type": "markdown",
   "id": "f5483f8d",
   "metadata": {},
   "source": [
    "## calculate the cumulative sum of all the areas"
   ]
  },
  {
   "cell_type": "code",
   "execution_count": 15,
   "id": "f94a6151",
   "metadata": {},
   "outputs": [],
   "source": [
    "slice_area_all = slice_area_all.cumsum()"
   ]
  },
  {
   "cell_type": "code",
   "execution_count": 16,
   "id": "8ffd1a6d",
   "metadata": {},
   "outputs": [
    {
     "data": {
      "text/plain": [
       "array([ 0.,  0.,  2.,  6., 12., 20., 30.])"
      ]
     },
     "execution_count": 16,
     "metadata": {},
     "output_type": "execute_result"
    }
   ],
   "source": [
    "slice_area_all"
   ]
  },
  {
   "cell_type": "code",
   "execution_count": 18,
   "id": "5e7094e8",
   "metadata": {},
   "outputs": [
    {
     "data": {
      "text/plain": [
       "[<matplotlib.lines.Line2D at 0x7ff275356970>]"
      ]
     },
     "execution_count": 18,
     "metadata": {},
     "output_type": "execute_result"
    },
    {
     "data": {
      "image/png": "[encoded data removed]",
      "text/plain": [
       "<Figure size 432x288 with 1 Axes>"
      ]
     },
     "metadata": {
      "needs_background": "light"
     },
     "output_type": "display_data"
    }
   ],
   "source": [
    "plt.plot(x,x**2, label='True')\n",
    "plt.plot(x,slice_area_all, label='estimated')\n"
   ]
  },
  {
   "cell_type": "markdown",
   "id": "dbd36090",
   "metadata": {},
   "source": [
    "## you can see that the esimation is slightly lower than the true value due to the slight variance in the estimation method by taking a bar graph at each point along the x axis"
   ]
  },
  {
   "cell_type": "markdown",
   "id": "a9565bdc",
   "metadata": {},
   "source": [
    "## next step is to apply a very small delta, so creating a small nudge"
   ]
  },
  {
   "cell_type": "code",
   "execution_count": 19,
   "id": "631f1a44",
   "metadata": {},
   "outputs": [],
   "source": [
    "delta_x = 0.1\n",
    "x = np.arange(0,7,delta_x)\n",
    "y = g_2x(x)"
   ]
  },
  {
   "cell_type": "code",
   "execution_count": 20,
   "id": "ea83a479",
   "metadata": {},
   "outputs": [],
   "source": [
    "slice_area_all = np.zeros(y.shape[0])\n",
    "for i in range(1, len(x)):\n",
    "    slice_area_all[i] = delta_x *y[i-1]"
   ]
  },
  {
   "cell_type": "code",
   "execution_count": 21,
   "id": "e8f99592",
   "metadata": {},
   "outputs": [],
   "source": [
    "slice_area_all = slice_area_all.cumsum()"
   ]
  },
  {
   "cell_type": "code",
   "execution_count": 22,
   "id": "b83b995b",
   "metadata": {},
   "outputs": [
    {
     "data": {
      "text/plain": [
       "[<matplotlib.lines.Line2D at 0x7ff2776b29a0>]"
      ]
     },
     "execution_count": 22,
     "metadata": {},
     "output_type": "execute_result"
    },
    {
     "data": {
      "image/png": "[encoded data removed]",
      "text/plain": [
       "<Figure size 432x288 with 1 Axes>"
      ]
     },
     "metadata": {
      "needs_background": "light"
     },
     "output_type": "display_data"
    }
   ],
   "source": [
    "plt.plot(x,x**2, label='True')\n",
    "plt.plot(x,slice_area_all, label='estimated')"
   ]
  },
  {
   "cell_type": "markdown",
   "id": "f2685287",
   "metadata": {},
   "source": [
    "## with the much smaller deltas you end up with a far more accurate estimation of the true value"
   ]
  },
  {
   "cell_type": "code",
   "execution_count": null,
   "id": "f61c163f",
   "metadata": {},
   "outputs": [],
   "source": []
  }
 ],
 "metadata": {
  "kernelspec": {
   "display_name": "Python 3",
   "language": "python",
   "name": "python3"
  },
  "language_info": {
   "codemirror_mode": {
    "name": "ipython",
    "version": 3
   },
   "file_extension": ".py",
   "mimetype": "text/x-python",
   "name": "python",
   "nbconvert_exporter": "python",
   "pygments_lexer": "ipython3",
   "version": "3.8.6"
  },
  "toc": {
   "base_numbering": 1,
   "nav_menu": {},
   "number_sections": true,
   "sideBar": true,
   "skip_h1_title": false,
   "title_cell": "Table of Contents",
   "title_sidebar": "Contents",
   "toc_cell": false,
   "toc_position": {},
   "toc_section_display": true,
   "toc_window_display": false
  }
 },
 "nbformat": 4,
 "nbformat_minor": 5
}
