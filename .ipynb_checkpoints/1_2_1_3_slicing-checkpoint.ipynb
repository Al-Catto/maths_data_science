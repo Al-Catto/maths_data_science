{
 "cells": [
  {
   "cell_type": "code",
   "execution_count": 1,
   "id": "f4cbca3a",
   "metadata": {},
   "outputs": [],
   "source": [
    "%load_ext autoreload\n",
    "%autoreload 2\n",
    "\n",
    "%matplotlib inline\n",
    "import numpy as np\n",
    "import pandas as pd\n",
    "import matplotlib.pyplot as plt\n",
    "import seaborn as sns\n",
    "import scipy.stats as stats"
   ]
  },
  {
   "cell_type": "code",
   "execution_count": 2,
   "id": "f24489a1",
   "metadata": {},
   "outputs": [],
   "source": [
    "def g_2x(x):\n",
    "    return 2 * x"
   ]
  },
  {
   "cell_type": "code",
   "execution_count": 5,
   "id": "4b1ab9b1",
   "metadata": {},
   "outputs": [
    {
     "data": {
      "text/plain": [
       "array([0, 1, 2, 3, 4, 5, 6])"
      ]
     },
     "execution_count": 5,
     "metadata": {},
     "output_type": "execute_result"
    }
   ],
   "source": [
    "delta_x = 1\n",
    "x = np.arange(0,7,delta_x)\n",
    "x"
   ]
  },
  {
   "cell_type": "code",
   "execution_count": 6,
   "id": "61e91b12",
   "metadata": {},
   "outputs": [
    {
     "data": {
      "text/plain": [
       "array([ 0,  2,  4,  6,  8, 10, 12])"
      ]
     },
     "execution_count": 6,
     "metadata": {},
     "output_type": "execute_result"
    }
   ],
   "source": [
    "y=g_2x(x)\n",
    "y"
   ]
  },
  {
   "cell_type": "markdown",
   "id": "392fb17d",
   "metadata": {},
   "source": [
    "## here's the slice"
   ]
  },
  {
   "cell_type": "code",
   "execution_count": 13,
   "id": "da93b4b9",
   "metadata": {},
   "outputs": [],
   "source": [
    "slice_area_all = np.zeros(y.shape[0])\n",
    "for i in range(1, len(x)):\n",
    "    slice_area_all[i] = delta_x *y[i-1]\n"
   ]
  },
  {
   "cell_type": "markdown",
   "id": "c13489f0",
   "metadata": {},
   "source": [
    "## these values are the slice's areas"
   ]
  },
  {
   "cell_type": "code",
   "execution_count": 14,
   "id": "2c95a8e0",
   "metadata": {},
   "outputs": [
    {
     "data": {
      "text/plain": [
       "array([ 0.,  0.,  2.,  4.,  6.,  8., 10.])"
      ]
     },
     "execution_count": 14,
     "metadata": {},
     "output_type": "execute_result"
    }
   ],
   "source": [
    "slice_area_all"
   ]
  },
  {
   "cell_type": "markdown",
   "id": "e830cf43",
   "metadata": {},
   "source": [
    "## calculate the cumulative sum of all the areas"
   ]
  },
  {
   "cell_type": "code",
   "execution_count": 15,
   "id": "17232db0",
   "metadata": {},
   "outputs": [],
   "source": [
    "slice_area_all = slice_area_all.cumsum()"
   ]
  },
  {
   "cell_type": "code",
   "execution_count": 16,
   "id": "4337cb17",
   "metadata": {},
   "outputs": [
    {
     "data": {
      "text/plain": [
       "array([ 0.,  0.,  2.,  6., 12., 20., 30.])"
      ]
     },
     "execution_count": 16,
     "metadata": {},
     "output_type": "execute_result"
    }
   ],
   "source": [
    "slice_area_all"
   ]
  },
  {
   "cell_type": "code",
   "execution_count": 18,
   "id": "9777388f",
   "metadata": {},
   "outputs": [
    {
     "data": {
      "text/plain": [
       "[<matplotlib.lines.Line2D at 0x7ff275356970>]"
      ]
     },
     "execution_count": 18,
     "metadata": {},
     "output_type": "execute_result"
    },
    {
     "data": {
      "image/png": "[encoded data removed]",
      "text/plain": [
       "<Figure size 432x288 with 1 Axes>"
      ]
     },
     "metadata": {
      "needs_background": "light"
     },
     "output_type": "display_data"
    }
   ],
   "source": [
    "plt.plot(x,x**2, label='True')\n",
    "plt.plot(x,slice_area_all, label='estimated')\n"
   ]
  },
  {
   "cell_type": "markdown",
   "id": "b9596905",
   "metadata": {},
   "source": [
    "## you can see that the esimation is slightly lower than the true value due to the slight variance in the estimation method by taking a bar graph at each point along the x axis"
   ]
  },
  {
   "cell_type": "code",
   "execution_count": null,
   "id": "619f7142",
   "metadata": {},
   "outputs": [],
   "source": []
  }
 ],
 "metadata": {
  "kernelspec": {
   "display_name": "Python 3",
   "language": "python",
   "name": "python3"
  },
  "language_info": {
   "codemirror_mode": {
    "name": "ipython",
    "version": 3
   },
   "file_extension": ".py",
   "mimetype": "text/x-python",
   "name": "python",
   "nbconvert_exporter": "python",
   "pygments_lexer": "ipython3",
   "version": "3.8.6"
  },
  "toc": {
   "base_numbering": 1,
   "nav_menu": {},
   "number_sections": true,
   "sideBar": true,
   "skip_h1_title": false,
   "title_cell": "Table of Contents",
   "title_sidebar": "Contents",
   "toc_cell": false,
   "toc_position": {},
   "toc_section_display": true,
   "toc_window_display": false
  }
 },
 "nbformat": 4,
 "nbformat_minor": 5
}
