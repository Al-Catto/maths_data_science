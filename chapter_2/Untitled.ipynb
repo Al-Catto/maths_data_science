{
 "cells": [
  {
   "cell_type": "code",
   "execution_count": 1,
   "id": "336046ab",
   "metadata": {},
   "outputs": [],
   "source": [
    "%load_ext autoreload\n",
    "%autoreload 2\n",
    "\n",
    "%matplotlib inline\n",
    "import numpy as np\n",
    "import pandas as pd\n",
    "import matplotlib.pyplot as plt\n",
    "import seaborn as sns\n",
    "import scipy.stats as stats"
   ]
  },
  {
   "cell_type": "markdown",
   "id": "ed40fc39",
   "metadata": {},
   "source": [
    "# Descriptive statistics"
   ]
  },
  {
   "cell_type": "markdown",
   "id": "151073bc",
   "metadata": {},
   "source": [
    "## variance"
   ]
  },
  {
   "cell_type": "markdown",
   "id": "d0affef6",
   "metadata": {},
   "source": [
    "The variance is the mean of the squared differences to the mean - calculated using np.var(), variance is denoted by Var(x) and the mean as \"x bar\""
   ]
  },
  {
   "cell_type": "code",
   "execution_count": 2,
   "id": "6a336ce0",
   "metadata": {},
   "outputs": [],
   "source": [
    "x = np.array([1,2,3,4,5,6])"
   ]
  },
  {
   "cell_type": "code",
   "execution_count": 3,
   "id": "b3d7881d",
   "metadata": {},
   "outputs": [
    {
     "data": {
      "text/plain": [
       "2.9166666666666665"
      ]
     },
     "execution_count": 3,
     "metadata": {},
     "output_type": "execute_result"
    }
   ],
   "source": [
    "np.var(x)"
   ]
  },
  {
   "cell_type": "markdown",
   "id": "53256fe2",
   "metadata": {},
   "source": [
    "## Standard deviation"
   ]
  },
  {
   "cell_type": "markdown",
   "id": "36b9fc52",
   "metadata": {},
   "source": [
    "The standard deviation is the square root of the variance for the sample - denoted as sigma"
   ]
  },
  {
   "cell_type": "markdown",
   "id": "a83a5832",
   "metadata": {},
   "source": [
    "NOTE: we square root the variance to get back to the units of the observations, both variance and standard deviation will always be positive "
   ]
  },
  {
   "cell_type": "markdown",
   "id": "3e95dbbb",
   "metadata": {},
   "source": [
    "## covariance & correlation "
   ]
  },
  {
   "cell_type": "markdown",
   "id": "07d76770",
   "metadata": {},
   "source": [
    "Covariance tells you whether large values in one variable (given that the variable is a SET of values) are associated with large values in another variable, likewise for small values"
   ]
  },
  {
   "cell_type": "markdown",
   "id": "250882bf",
   "metadata": {},
   "source": [
    "Covariance is calculated by multiplying the difference from the mean for both variables and dividing by the number of samples\n",
    "\n",
    "If covariance is positive it means that large and small values between the 2 samples vary in the same direction \n",
    "\n",
    "If negative this indicates that large values in one sample are correlated with small values in the other\n",
    "\n",
    "A covariance of 0 means there is no linear relationship between the variables"
   ]
  }
 ],
 "metadata": {
  "kernelspec": {
   "display_name": "Python 3",
   "language": "python",
   "name": "python3"
  },
  "language_info": {
   "codemirror_mode": {
    "name": "ipython",
    "version": 3
   },
   "file_extension": ".py",
   "mimetype": "text/x-python",
   "name": "python",
   "nbconvert_exporter": "python",
   "pygments_lexer": "ipython3",
   "version": "3.8.6"
  },
  "toc": {
   "base_numbering": 1,
   "nav_menu": {},
   "number_sections": true,
   "sideBar": true,
   "skip_h1_title": false,
   "title_cell": "Table of Contents",
   "title_sidebar": "Contents",
   "toc_cell": false,
   "toc_position": {},
   "toc_section_display": true,
   "toc_window_display": false
  }
 },
 "nbformat": 4,
 "nbformat_minor": 5
}
