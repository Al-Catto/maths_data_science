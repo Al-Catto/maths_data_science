{
 "cells": [
  {
   "cell_type": "code",
   "execution_count": 1,
   "id": "dbbd77d8",
   "metadata": {},
   "outputs": [],
   "source": [
    "%load_ext autoreload\n",
    "%autoreload 2\n",
    "\n",
    "%matplotlib inline\n",
    "import numpy as np\n",
    "import pandas as pd\n",
    "import matplotlib.pyplot as plt\n",
    "import seaborn as sns\n",
    "import scipy.stats as stats"
   ]
  },
  {
   "cell_type": "markdown",
   "id": "dede45a4",
   "metadata": {},
   "source": [
    "# Descriptive statistics"
   ]
  },
  {
   "cell_type": "markdown",
   "id": "7054d9a3",
   "metadata": {},
   "source": [
    "## variance"
   ]
  },
  {
   "cell_type": "markdown",
   "id": "4293e16d",
   "metadata": {},
   "source": [
    "The variance is the mean of the squared differences to the mean - calculated using np.var(), variance is denoted by Var(x) and the mean as \"x bar\""
   ]
  },
  {
   "cell_type": "code",
   "execution_count": 2,
   "id": "e01516c6",
   "metadata": {},
   "outputs": [],
   "source": [
    "x = np.array([1,2,3,4,5,6])"
   ]
  },
  {
   "cell_type": "code",
   "execution_count": 3,
   "id": "f01bf091",
   "metadata": {},
   "outputs": [
    {
     "data": {
      "text/plain": [
       "2.9166666666666665"
      ]
     },
     "execution_count": 3,
     "metadata": {},
     "output_type": "execute_result"
    }
   ],
   "source": [
    "np.var(x)"
   ]
  },
  {
   "cell_type": "markdown",
   "id": "63dcfff8",
   "metadata": {},
   "source": [
    "## Standard deviation"
   ]
  },
  {
   "cell_type": "markdown",
   "id": "4ce99c35",
   "metadata": {},
   "source": [
    "The standard deviation is the square root of the variance for the sample - denoted as sigma"
   ]
  },
  {
   "cell_type": "markdown",
   "id": "39369a0a",
   "metadata": {},
   "source": [
    "NOTE: we square root the variance to get back to the units of the observations, both variance and standard deviation will always be positive "
   ]
  },
  {
   "cell_type": "markdown",
   "id": "d30e358f",
   "metadata": {},
   "source": [
    "## covariance & correlation "
   ]
  },
  {
   "cell_type": "markdown",
   "id": "d7b165ab",
   "metadata": {},
   "source": [
    "Covariance tells you whether large values in one variable (given that the variable is a SET of values) are associated with large values in another variable, likewise for small values"
   ]
  },
  {
   "cell_type": "markdown",
   "id": "32cada11",
   "metadata": {},
   "source": [
    "Covariance is calculated by multiplying the difference from the mean for both variables and dividing by the number of samples\n",
    "\n",
    "If covariance is positive it means that large and small values between the 2 samples vary in the same direction \n",
    "\n",
    "If negative this indicates that large values in one sample are correlated with small values in the other\n",
    "\n",
    "A covariance of 0 means there is no linear relationship between the variables"
   ]
  },
  {
   "cell_type": "code",
   "execution_count": 33,
   "id": "8fb7aea2",
   "metadata": {},
   "outputs": [],
   "source": [
    "data_beer = pd.read_csv(\"https://raw.githubusercontent.com/hadrienj/essential_math_for_data_science/master/data/beer_dataset.csv\")"
   ]
  },
  {
   "cell_type": "code",
   "execution_count": 34,
   "id": "383afb47",
   "metadata": {},
   "outputs": [
    {
     "data": {
      "text/html": [
       "<div>\n",
       "<style scoped>\n",
       "    .dataframe tbody tr th:only-of-type {\n",
       "        vertical-align: middle;\n",
       "    }\n",
       "\n",
       "    .dataframe tbody tr th {\n",
       "        vertical-align: top;\n",
       "    }\n",
       "\n",
       "    .dataframe thead th {\n",
       "        text-align: right;\n",
       "    }\n",
       "</style>\n",
       "<table border=\"1\" class=\"dataframe\">\n",
       "  <thead>\n",
       "    <tr style=\"text-align: right;\">\n",
       "      <th></th>\n",
       "      <th>Data</th>\n",
       "      <th>Temperatura Media (C)</th>\n",
       "      <th>Temperatura Minima (C)</th>\n",
       "      <th>Temperatura Maxima (C)</th>\n",
       "      <th>Precipitacao (mm)</th>\n",
       "      <th>Final de Semana</th>\n",
       "      <th>Consumo de cerveja (litros)</th>\n",
       "    </tr>\n",
       "  </thead>\n",
       "  <tbody>\n",
       "    <tr>\n",
       "      <th>0</th>\n",
       "      <td>2015-01-01</td>\n",
       "      <td>27.30</td>\n",
       "      <td>23.9</td>\n",
       "      <td>32.5</td>\n",
       "      <td>0.0</td>\n",
       "      <td>0.0</td>\n",
       "      <td>25.461</td>\n",
       "    </tr>\n",
       "    <tr>\n",
       "      <th>1</th>\n",
       "      <td>2015-01-02</td>\n",
       "      <td>27.02</td>\n",
       "      <td>24.5</td>\n",
       "      <td>33.5</td>\n",
       "      <td>0.0</td>\n",
       "      <td>0.0</td>\n",
       "      <td>28.972</td>\n",
       "    </tr>\n",
       "    <tr>\n",
       "      <th>2</th>\n",
       "      <td>2015-01-03</td>\n",
       "      <td>24.82</td>\n",
       "      <td>22.4</td>\n",
       "      <td>29.9</td>\n",
       "      <td>0.0</td>\n",
       "      <td>1.0</td>\n",
       "      <td>30.814</td>\n",
       "    </tr>\n",
       "    <tr>\n",
       "      <th>3</th>\n",
       "      <td>2015-01-04</td>\n",
       "      <td>23.98</td>\n",
       "      <td>21.5</td>\n",
       "      <td>28.6</td>\n",
       "      <td>1.2</td>\n",
       "      <td>1.0</td>\n",
       "      <td>29.799</td>\n",
       "    </tr>\n",
       "    <tr>\n",
       "      <th>4</th>\n",
       "      <td>2015-01-05</td>\n",
       "      <td>23.82</td>\n",
       "      <td>21.0</td>\n",
       "      <td>28.3</td>\n",
       "      <td>0.0</td>\n",
       "      <td>0.0</td>\n",
       "      <td>28.900</td>\n",
       "    </tr>\n",
       "  </tbody>\n",
       "</table>\n",
       "</div>"
      ],
      "text/plain": [
       "         Data  Temperatura Media (C)  Temperatura Minima (C)  \\\n",
       "0  2015-01-01                  27.30                    23.9   \n",
       "1  2015-01-02                  27.02                    24.5   \n",
       "2  2015-01-03                  24.82                    22.4   \n",
       "3  2015-01-04                  23.98                    21.5   \n",
       "4  2015-01-05                  23.82                    21.0   \n",
       "\n",
       "   Temperatura Maxima (C)  Precipitacao (mm)  Final de Semana  \\\n",
       "0                    32.5                0.0              0.0   \n",
       "1                    33.5                0.0              0.0   \n",
       "2                    29.9                0.0              1.0   \n",
       "3                    28.6                1.2              1.0   \n",
       "4                    28.3                0.0              0.0   \n",
       "\n",
       "   Consumo de cerveja (litros)  \n",
       "0                       25.461  \n",
       "1                       28.972  \n",
       "2                       30.814  \n",
       "3                       29.799  \n",
       "4                       28.900  "
      ]
     },
     "execution_count": 34,
     "metadata": {},
     "output_type": "execute_result"
    }
   ],
   "source": [
    "data_beer.head()"
   ]
  },
  {
   "cell_type": "code",
   "execution_count": 36,
   "id": "16b031c9",
   "metadata": {},
   "outputs": [
    {
     "data": {
      "text/plain": [
       "<matplotlib.collections.PathCollection at 0x7f545673dd00>"
      ]
     },
     "execution_count": 36,
     "metadata": {},
     "output_type": "execute_result"
    },
    {
     "data": {
      "image/png": "[encoded data removed]",
      "text/plain": [
       "<Figure size 432x288 with 1 Axes>"
      ]
     },
     "metadata": {
      "needs_background": "light"
     },
     "output_type": "display_data"
    }
   ],
   "source": [
    "plt.scatter(data_beer['Temperatura Maxima (C)'],data_beer['Consumo de cerveja (litros)'], alpha=0.5)"
   ]
  },
  {
   "cell_type": "markdown",
   "id": "a485d24e",
   "metadata": {},
   "source": [
    "this indicates a positive covariance ie as the temp increases and the volume of beer consumed increases. "
   ]
  },
  {
   "cell_type": "markdown",
   "id": "fad35859",
   "metadata": {},
   "source": [
    "### calculating the covariance"
   ]
  },
  {
   "cell_type": "code",
   "execution_count": 37,
   "id": "a9451a07",
   "metadata": {},
   "outputs": [],
   "source": [
    "x = data_beer['Temperatura Maxima (C)'] \n",
    "y = data_beer['Consumo de cerveja (litros)'] "
   ]
  },
  {
   "cell_type": "code",
   "execution_count": 38,
   "id": "263f6983",
   "metadata": {},
   "outputs": [
    {
     "data": {
      "text/plain": [
       "12.172649474197785"
      ]
     },
     "execution_count": 38,
     "metadata": {},
     "output_type": "execute_result"
    }
   ],
   "source": [
    "np.sum((x - np.mean(x)) * (y - np.mean(y))) /x.shape[0]"
   ]
  },
  {
   "cell_type": "markdown",
   "id": "ec5dccd9",
   "metadata": {},
   "source": [
    "or you can use"
   ]
  },
  {
   "cell_type": "code",
   "execution_count": 39,
   "id": "a20aadf6",
   "metadata": {},
   "outputs": [
    {
     "data": {
      "text/plain": [
       "array([[18.63964745, 12.20609082],\n",
       "       [12.20609082, 19.35245652]])"
      ]
     },
     "execution_count": 39,
     "metadata": {},
     "output_type": "execute_result"
    }
   ],
   "source": [
    "np.cov(data_beer['Temperatura Maxima (C)'],data_beer['Consumo de cerveja (litros)'] )"
   ]
  },
  {
   "cell_type": "markdown",
   "id": "370974ed",
   "metadata": {},
   "source": [
    "this indicates the covar of 12.2 (look across the diagonal bottom left to top right), this varies from 12.17 due the use of the bessel correction the division is by the number of samples -1. (correct by setting the delta degrees of fredom to 0 ddf) as below"
   ]
  },
  {
   "cell_type": "code",
   "execution_count": 42,
   "id": "d558dba4",
   "metadata": {},
   "outputs": [
    {
     "data": {
      "text/plain": [
       "array([[18.58857992, 12.17264947],\n",
       "       [12.17264947, 19.2994361 ]])"
      ]
     },
     "execution_count": 42,
     "metadata": {},
     "output_type": "execute_result"
    }
   ],
   "source": [
    "np.cov(data_beer['Temperatura Maxima (C)'],data_beer['Consumo de cerveja (litros)'], ddof=0 )"
   ]
  },
  {
   "cell_type": "code",
   "execution_count": null,
   "id": "c0aff9de",
   "metadata": {},
   "outputs": [],
   "source": []
  }
 ],
 "metadata": {
  "kernelspec": {
   "display_name": "Python 3",
   "language": "python",
   "name": "python3"
  },
  "language_info": {
   "codemirror_mode": {
    "name": "ipython",
    "version": 3
   },
   "file_extension": ".py",
   "mimetype": "text/x-python",
   "name": "python",
   "nbconvert_exporter": "python",
   "pygments_lexer": "ipython3",
   "version": "3.8.6"
  },
  "toc": {
   "base_numbering": 1,
   "nav_menu": {},
   "number_sections": true,
   "sideBar": true,
   "skip_h1_title": false,
   "title_cell": "Table of Contents",
   "title_sidebar": "Contents",
   "toc_cell": false,
   "toc_position": {},
   "toc_section_display": true,
   "toc_window_display": false
  }
 },
 "nbformat": 4,
 "nbformat_minor": 5
}
